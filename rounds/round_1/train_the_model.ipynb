{
 "cells": [
  {
   "cell_type": "code",
   "execution_count": 2,
   "metadata": {},
   "outputs": [],
   "source": [
    "import numpy as np\n",
    "import pandas as pd\n",
    "import matplotlib.pyplot as plt\n",
    "from sklearn.model_selection import train_test_split\n",
    "from sklearn.linear_model import LinearRegression\n",
    "from sklearn.preprocessing import LabelEncoder\n",
    "from sklearn.metrics import mean_squared_error"
   ]
  },
  {
   "cell_type": "markdown",
   "metadata": {},
   "source": []
  },
  {
   "cell_type": "code",
   "execution_count": 5,
   "metadata": {},
   "outputs": [
    {
     "ename": "FileNotFoundError",
     "evalue": "[Errno 2] No such file or directory: '../data/round_1/prices_round_1_day_-2.csv'",
     "output_type": "error",
     "traceback": [
      "\u001b[0;31m---------------------------------------------------------------------------\u001b[0m",
      "\u001b[0;31mFileNotFoundError\u001b[0m                         Traceback (most recent call last)",
      "Cell \u001b[0;32mIn[5], line 6\u001b[0m\n\u001b[1;32m      1\u001b[0m \u001b[38;5;66;03m# append day-1 and day-2\u001b[39;00m\n\u001b[1;32m      2\u001b[0m \u001b[38;5;66;03m# features = features + pd.read_csv('data/round_1/prices_round_1_day_-1.csv', delimiter=\";\") + pd.read_csv('data/round_1/prices_round_1_day_-2.csv', delimiter=\";\")\u001b[39;00m\n\u001b[0;32m----> 6\u001b[0m day_n2 \u001b[38;5;241m=\u001b[39m \u001b[43mpd\u001b[49m\u001b[38;5;241;43m.\u001b[39;49m\u001b[43mread_csv\u001b[49m\u001b[43m(\u001b[49m\u001b[38;5;124;43m'\u001b[39;49m\u001b[38;5;124;43m../data/round_1/prices_round_1_day_-2.csv\u001b[39;49m\u001b[38;5;124;43m'\u001b[39;49m\u001b[43m,\u001b[49m\u001b[43m \u001b[49m\u001b[43mdelimiter\u001b[49m\u001b[38;5;241;43m=\u001b[39;49m\u001b[38;5;124;43m'\u001b[39;49m\u001b[38;5;124;43m;\u001b[39;49m\u001b[38;5;124;43m'\u001b[39;49m\u001b[43m)\u001b[49m\n\u001b[1;32m      7\u001b[0m \u001b[38;5;66;03m# Only keep symbol STARFRUIT\u001b[39;00m\n\u001b[1;32m      8\u001b[0m day_n2 \u001b[38;5;241m=\u001b[39m day_n2[day_n2[\u001b[38;5;124m'\u001b[39m\u001b[38;5;124mproduct\u001b[39m\u001b[38;5;124m'\u001b[39m] \u001b[38;5;241m==\u001b[39m \u001b[38;5;124m'\u001b[39m\u001b[38;5;124mSTARFRUIT\u001b[39m\u001b[38;5;124m'\u001b[39m]\n",
      "File \u001b[0;32m~/.local/share/virtualenvs/trading-xpfupB2j/lib/python3.12/site-packages/pandas/io/parsers/readers.py:1026\u001b[0m, in \u001b[0;36mread_csv\u001b[0;34m(filepath_or_buffer, sep, delimiter, header, names, index_col, usecols, dtype, engine, converters, true_values, false_values, skipinitialspace, skiprows, skipfooter, nrows, na_values, keep_default_na, na_filter, verbose, skip_blank_lines, parse_dates, infer_datetime_format, keep_date_col, date_parser, date_format, dayfirst, cache_dates, iterator, chunksize, compression, thousands, decimal, lineterminator, quotechar, quoting, doublequote, escapechar, comment, encoding, encoding_errors, dialect, on_bad_lines, delim_whitespace, low_memory, memory_map, float_precision, storage_options, dtype_backend)\u001b[0m\n\u001b[1;32m   1013\u001b[0m kwds_defaults \u001b[38;5;241m=\u001b[39m _refine_defaults_read(\n\u001b[1;32m   1014\u001b[0m     dialect,\n\u001b[1;32m   1015\u001b[0m     delimiter,\n\u001b[0;32m   (...)\u001b[0m\n\u001b[1;32m   1022\u001b[0m     dtype_backend\u001b[38;5;241m=\u001b[39mdtype_backend,\n\u001b[1;32m   1023\u001b[0m )\n\u001b[1;32m   1024\u001b[0m kwds\u001b[38;5;241m.\u001b[39mupdate(kwds_defaults)\n\u001b[0;32m-> 1026\u001b[0m \u001b[38;5;28;01mreturn\u001b[39;00m \u001b[43m_read\u001b[49m\u001b[43m(\u001b[49m\u001b[43mfilepath_or_buffer\u001b[49m\u001b[43m,\u001b[49m\u001b[43m \u001b[49m\u001b[43mkwds\u001b[49m\u001b[43m)\u001b[49m\n",
      "File \u001b[0;32m~/.local/share/virtualenvs/trading-xpfupB2j/lib/python3.12/site-packages/pandas/io/parsers/readers.py:620\u001b[0m, in \u001b[0;36m_read\u001b[0;34m(filepath_or_buffer, kwds)\u001b[0m\n\u001b[1;32m    617\u001b[0m _validate_names(kwds\u001b[38;5;241m.\u001b[39mget(\u001b[38;5;124m\"\u001b[39m\u001b[38;5;124mnames\u001b[39m\u001b[38;5;124m\"\u001b[39m, \u001b[38;5;28;01mNone\u001b[39;00m))\n\u001b[1;32m    619\u001b[0m \u001b[38;5;66;03m# Create the parser.\u001b[39;00m\n\u001b[0;32m--> 620\u001b[0m parser \u001b[38;5;241m=\u001b[39m \u001b[43mTextFileReader\u001b[49m\u001b[43m(\u001b[49m\u001b[43mfilepath_or_buffer\u001b[49m\u001b[43m,\u001b[49m\u001b[43m \u001b[49m\u001b[38;5;241;43m*\u001b[39;49m\u001b[38;5;241;43m*\u001b[39;49m\u001b[43mkwds\u001b[49m\u001b[43m)\u001b[49m\n\u001b[1;32m    622\u001b[0m \u001b[38;5;28;01mif\u001b[39;00m chunksize \u001b[38;5;129;01mor\u001b[39;00m iterator:\n\u001b[1;32m    623\u001b[0m     \u001b[38;5;28;01mreturn\u001b[39;00m parser\n",
      "File \u001b[0;32m~/.local/share/virtualenvs/trading-xpfupB2j/lib/python3.12/site-packages/pandas/io/parsers/readers.py:1620\u001b[0m, in \u001b[0;36mTextFileReader.__init__\u001b[0;34m(self, f, engine, **kwds)\u001b[0m\n\u001b[1;32m   1617\u001b[0m     \u001b[38;5;28mself\u001b[39m\u001b[38;5;241m.\u001b[39moptions[\u001b[38;5;124m\"\u001b[39m\u001b[38;5;124mhas_index_names\u001b[39m\u001b[38;5;124m\"\u001b[39m] \u001b[38;5;241m=\u001b[39m kwds[\u001b[38;5;124m\"\u001b[39m\u001b[38;5;124mhas_index_names\u001b[39m\u001b[38;5;124m\"\u001b[39m]\n\u001b[1;32m   1619\u001b[0m \u001b[38;5;28mself\u001b[39m\u001b[38;5;241m.\u001b[39mhandles: IOHandles \u001b[38;5;241m|\u001b[39m \u001b[38;5;28;01mNone\u001b[39;00m \u001b[38;5;241m=\u001b[39m \u001b[38;5;28;01mNone\u001b[39;00m\n\u001b[0;32m-> 1620\u001b[0m \u001b[38;5;28mself\u001b[39m\u001b[38;5;241m.\u001b[39m_engine \u001b[38;5;241m=\u001b[39m \u001b[38;5;28;43mself\u001b[39;49m\u001b[38;5;241;43m.\u001b[39;49m\u001b[43m_make_engine\u001b[49m\u001b[43m(\u001b[49m\u001b[43mf\u001b[49m\u001b[43m,\u001b[49m\u001b[43m \u001b[49m\u001b[38;5;28;43mself\u001b[39;49m\u001b[38;5;241;43m.\u001b[39;49m\u001b[43mengine\u001b[49m\u001b[43m)\u001b[49m\n",
      "File \u001b[0;32m~/.local/share/virtualenvs/trading-xpfupB2j/lib/python3.12/site-packages/pandas/io/parsers/readers.py:1880\u001b[0m, in \u001b[0;36mTextFileReader._make_engine\u001b[0;34m(self, f, engine)\u001b[0m\n\u001b[1;32m   1878\u001b[0m     \u001b[38;5;28;01mif\u001b[39;00m \u001b[38;5;124m\"\u001b[39m\u001b[38;5;124mb\u001b[39m\u001b[38;5;124m\"\u001b[39m \u001b[38;5;129;01mnot\u001b[39;00m \u001b[38;5;129;01min\u001b[39;00m mode:\n\u001b[1;32m   1879\u001b[0m         mode \u001b[38;5;241m+\u001b[39m\u001b[38;5;241m=\u001b[39m \u001b[38;5;124m\"\u001b[39m\u001b[38;5;124mb\u001b[39m\u001b[38;5;124m\"\u001b[39m\n\u001b[0;32m-> 1880\u001b[0m \u001b[38;5;28mself\u001b[39m\u001b[38;5;241m.\u001b[39mhandles \u001b[38;5;241m=\u001b[39m \u001b[43mget_handle\u001b[49m\u001b[43m(\u001b[49m\n\u001b[1;32m   1881\u001b[0m \u001b[43m    \u001b[49m\u001b[43mf\u001b[49m\u001b[43m,\u001b[49m\n\u001b[1;32m   1882\u001b[0m \u001b[43m    \u001b[49m\u001b[43mmode\u001b[49m\u001b[43m,\u001b[49m\n\u001b[1;32m   1883\u001b[0m \u001b[43m    \u001b[49m\u001b[43mencoding\u001b[49m\u001b[38;5;241;43m=\u001b[39;49m\u001b[38;5;28;43mself\u001b[39;49m\u001b[38;5;241;43m.\u001b[39;49m\u001b[43moptions\u001b[49m\u001b[38;5;241;43m.\u001b[39;49m\u001b[43mget\u001b[49m\u001b[43m(\u001b[49m\u001b[38;5;124;43m\"\u001b[39;49m\u001b[38;5;124;43mencoding\u001b[39;49m\u001b[38;5;124;43m\"\u001b[39;49m\u001b[43m,\u001b[49m\u001b[43m \u001b[49m\u001b[38;5;28;43;01mNone\u001b[39;49;00m\u001b[43m)\u001b[49m\u001b[43m,\u001b[49m\n\u001b[1;32m   1884\u001b[0m \u001b[43m    \u001b[49m\u001b[43mcompression\u001b[49m\u001b[38;5;241;43m=\u001b[39;49m\u001b[38;5;28;43mself\u001b[39;49m\u001b[38;5;241;43m.\u001b[39;49m\u001b[43moptions\u001b[49m\u001b[38;5;241;43m.\u001b[39;49m\u001b[43mget\u001b[49m\u001b[43m(\u001b[49m\u001b[38;5;124;43m\"\u001b[39;49m\u001b[38;5;124;43mcompression\u001b[39;49m\u001b[38;5;124;43m\"\u001b[39;49m\u001b[43m,\u001b[49m\u001b[43m \u001b[49m\u001b[38;5;28;43;01mNone\u001b[39;49;00m\u001b[43m)\u001b[49m\u001b[43m,\u001b[49m\n\u001b[1;32m   1885\u001b[0m \u001b[43m    \u001b[49m\u001b[43mmemory_map\u001b[49m\u001b[38;5;241;43m=\u001b[39;49m\u001b[38;5;28;43mself\u001b[39;49m\u001b[38;5;241;43m.\u001b[39;49m\u001b[43moptions\u001b[49m\u001b[38;5;241;43m.\u001b[39;49m\u001b[43mget\u001b[49m\u001b[43m(\u001b[49m\u001b[38;5;124;43m\"\u001b[39;49m\u001b[38;5;124;43mmemory_map\u001b[39;49m\u001b[38;5;124;43m\"\u001b[39;49m\u001b[43m,\u001b[49m\u001b[43m \u001b[49m\u001b[38;5;28;43;01mFalse\u001b[39;49;00m\u001b[43m)\u001b[49m\u001b[43m,\u001b[49m\n\u001b[1;32m   1886\u001b[0m \u001b[43m    \u001b[49m\u001b[43mis_text\u001b[49m\u001b[38;5;241;43m=\u001b[39;49m\u001b[43mis_text\u001b[49m\u001b[43m,\u001b[49m\n\u001b[1;32m   1887\u001b[0m \u001b[43m    \u001b[49m\u001b[43merrors\u001b[49m\u001b[38;5;241;43m=\u001b[39;49m\u001b[38;5;28;43mself\u001b[39;49m\u001b[38;5;241;43m.\u001b[39;49m\u001b[43moptions\u001b[49m\u001b[38;5;241;43m.\u001b[39;49m\u001b[43mget\u001b[49m\u001b[43m(\u001b[49m\u001b[38;5;124;43m\"\u001b[39;49m\u001b[38;5;124;43mencoding_errors\u001b[39;49m\u001b[38;5;124;43m\"\u001b[39;49m\u001b[43m,\u001b[49m\u001b[43m \u001b[49m\u001b[38;5;124;43m\"\u001b[39;49m\u001b[38;5;124;43mstrict\u001b[39;49m\u001b[38;5;124;43m\"\u001b[39;49m\u001b[43m)\u001b[49m\u001b[43m,\u001b[49m\n\u001b[1;32m   1888\u001b[0m \u001b[43m    \u001b[49m\u001b[43mstorage_options\u001b[49m\u001b[38;5;241;43m=\u001b[39;49m\u001b[38;5;28;43mself\u001b[39;49m\u001b[38;5;241;43m.\u001b[39;49m\u001b[43moptions\u001b[49m\u001b[38;5;241;43m.\u001b[39;49m\u001b[43mget\u001b[49m\u001b[43m(\u001b[49m\u001b[38;5;124;43m\"\u001b[39;49m\u001b[38;5;124;43mstorage_options\u001b[39;49m\u001b[38;5;124;43m\"\u001b[39;49m\u001b[43m,\u001b[49m\u001b[43m \u001b[49m\u001b[38;5;28;43;01mNone\u001b[39;49;00m\u001b[43m)\u001b[49m\u001b[43m,\u001b[49m\n\u001b[1;32m   1889\u001b[0m \u001b[43m\u001b[49m\u001b[43m)\u001b[49m\n\u001b[1;32m   1890\u001b[0m \u001b[38;5;28;01massert\u001b[39;00m \u001b[38;5;28mself\u001b[39m\u001b[38;5;241m.\u001b[39mhandles \u001b[38;5;129;01mis\u001b[39;00m \u001b[38;5;129;01mnot\u001b[39;00m \u001b[38;5;28;01mNone\u001b[39;00m\n\u001b[1;32m   1891\u001b[0m f \u001b[38;5;241m=\u001b[39m \u001b[38;5;28mself\u001b[39m\u001b[38;5;241m.\u001b[39mhandles\u001b[38;5;241m.\u001b[39mhandle\n",
      "File \u001b[0;32m~/.local/share/virtualenvs/trading-xpfupB2j/lib/python3.12/site-packages/pandas/io/common.py:873\u001b[0m, in \u001b[0;36mget_handle\u001b[0;34m(path_or_buf, mode, encoding, compression, memory_map, is_text, errors, storage_options)\u001b[0m\n\u001b[1;32m    868\u001b[0m \u001b[38;5;28;01melif\u001b[39;00m \u001b[38;5;28misinstance\u001b[39m(handle, \u001b[38;5;28mstr\u001b[39m):\n\u001b[1;32m    869\u001b[0m     \u001b[38;5;66;03m# Check whether the filename is to be opened in binary mode.\u001b[39;00m\n\u001b[1;32m    870\u001b[0m     \u001b[38;5;66;03m# Binary mode does not support 'encoding' and 'newline'.\u001b[39;00m\n\u001b[1;32m    871\u001b[0m     \u001b[38;5;28;01mif\u001b[39;00m ioargs\u001b[38;5;241m.\u001b[39mencoding \u001b[38;5;129;01mand\u001b[39;00m \u001b[38;5;124m\"\u001b[39m\u001b[38;5;124mb\u001b[39m\u001b[38;5;124m\"\u001b[39m \u001b[38;5;129;01mnot\u001b[39;00m \u001b[38;5;129;01min\u001b[39;00m ioargs\u001b[38;5;241m.\u001b[39mmode:\n\u001b[1;32m    872\u001b[0m         \u001b[38;5;66;03m# Encoding\u001b[39;00m\n\u001b[0;32m--> 873\u001b[0m         handle \u001b[38;5;241m=\u001b[39m \u001b[38;5;28;43mopen\u001b[39;49m\u001b[43m(\u001b[49m\n\u001b[1;32m    874\u001b[0m \u001b[43m            \u001b[49m\u001b[43mhandle\u001b[49m\u001b[43m,\u001b[49m\n\u001b[1;32m    875\u001b[0m \u001b[43m            \u001b[49m\u001b[43mioargs\u001b[49m\u001b[38;5;241;43m.\u001b[39;49m\u001b[43mmode\u001b[49m\u001b[43m,\u001b[49m\n\u001b[1;32m    876\u001b[0m \u001b[43m            \u001b[49m\u001b[43mencoding\u001b[49m\u001b[38;5;241;43m=\u001b[39;49m\u001b[43mioargs\u001b[49m\u001b[38;5;241;43m.\u001b[39;49m\u001b[43mencoding\u001b[49m\u001b[43m,\u001b[49m\n\u001b[1;32m    877\u001b[0m \u001b[43m            \u001b[49m\u001b[43merrors\u001b[49m\u001b[38;5;241;43m=\u001b[39;49m\u001b[43merrors\u001b[49m\u001b[43m,\u001b[49m\n\u001b[1;32m    878\u001b[0m \u001b[43m            \u001b[49m\u001b[43mnewline\u001b[49m\u001b[38;5;241;43m=\u001b[39;49m\u001b[38;5;124;43m\"\u001b[39;49m\u001b[38;5;124;43m\"\u001b[39;49m\u001b[43m,\u001b[49m\n\u001b[1;32m    879\u001b[0m \u001b[43m        \u001b[49m\u001b[43m)\u001b[49m\n\u001b[1;32m    880\u001b[0m     \u001b[38;5;28;01melse\u001b[39;00m:\n\u001b[1;32m    881\u001b[0m         \u001b[38;5;66;03m# Binary mode\u001b[39;00m\n\u001b[1;32m    882\u001b[0m         handle \u001b[38;5;241m=\u001b[39m \u001b[38;5;28mopen\u001b[39m(handle, ioargs\u001b[38;5;241m.\u001b[39mmode)\n",
      "\u001b[0;31mFileNotFoundError\u001b[0m: [Errno 2] No such file or directory: '../data/round_1/prices_round_1_day_-2.csv'"
     ]
    }
   ],
   "source": [
    "# append day-1 and day-2\n",
    "# features = features + pd.read_csv('data/round_1/prices_round_1_day_-1.csv', delimiter=\";\") + pd.read_csv('data/round_1/prices_round_1_day_-2.csv', delimiter=\";\")\n",
    "\n",
    "\n",
    "\n",
    "day_n2 = pd.read_csv('data/prices_round_1_day_-2.csv', delimiter=';')\n",
    "# Only keep symbol STARFRUIT\n",
    "day_n2 = day_n2[day_n2['product'] == 'STARFRUIT']\n",
    "\n",
    "day_n1 = pd.read_csv('data/prices_round_1_day_-1.csv', delimiter=';')\n",
    "# Only keep symbol STARFRUIT\n",
    "day_n1 = day_n1[day_n1['product'] == 'STARFRUIT']\n",
    "day_n1['timestamp'] += day_n2['timestamp'].iloc[-1]\n",
    "\n",
    "features = pd.read_csv('data/prices_round_1_day_0.csv', delimiter=';')\n",
    "features = features[features['product'] == 'STARFRUIT']\n",
    "features['timestamp'] += day_n1['timestamp'].iloc[-1]\n",
    "\n",
    "\n",
    "features = pd.concat([day_n2,  day_n1,  features,])\n",
    "\n",
    "\n",
    "# delete day_n1 and day_n2\n",
    "del day_n1\n",
    "del day_n2\n",
    "\n",
    "\n",
    "features.tail()\n"
   ]
  },
  {
   "cell_type": "code",
   "execution_count": null,
   "metadata": {},
   "outputs": [],
   "source": [
    "\n",
    "trades_n2 = pd.read_csv('data/round_1/trades_round_1_day_-2_nn.csv', delimiter=';')\n",
    "trades_n2 = trades_n2[trades_n2['symbol'] == 'STARFRUIT']\n",
    "\n",
    "\n",
    "trades_n1 = pd.read_csv('data/round_1/trades_round_1_day_-1_nn.csv', delimiter=';')\n",
    "trades_n1 = trades_n1[trades_n1['symbol'] == 'STARFRUIT']\n",
    "trades_n1['timestamp'] += trades_n2['timestamp'].iloc[-1]\n",
    "\n",
    "trades = pd.read_csv('data/round_1/trades_round_1_day_0_nn.csv', delimiter=';')\n",
    "trades['timestamp'] += trades_n1['timestamp'].iloc[-1]\n",
    "\n",
    "trades = pd.concat([trades_n2, trades_n1, trades])\n",
    "\n",
    "# # drop buyer and seller\n",
    "trades = trades.drop(columns=['buyer', 'seller', 'currency'])\n",
    "trades = trades[trades[\"symbol\"] == \"STARFRUIT\"]\n",
    "\n",
    "\n",
    "\n",
    "\n",
    "trades.tail()"
   ]
  },
  {
   "cell_type": "code",
   "execution_count": null,
   "metadata": {},
   "outputs": [],
   "source": [
    "# only include rows with product = STARFRUIT\n",
    "features = features[features[\"product\"] == \"STARFRUIT\"]\n",
    "\n",
    "features = features.drop(columns=[\"day\"])\n",
    "\n",
    "features = features.drop(columns=[\"profit_and_loss\"])\n",
    "\n",
    "# split data based on the product column\n",
    "features.head()"
   ]
  },
  {
   "cell_type": "code",
   "execution_count": null,
   "metadata": {},
   "outputs": [],
   "source": [
    "\n",
    "# features['mid_price'] = (features['bid_price_1'] + features['ask_price_1']) / 2\n",
    "\n",
    "# features[\"spread\"] = features[\"ask_price_1\"] - features[\"bid_price_1\"]\n",
    "\n",
    "# # calculate KDJ\n",
    "# # https://www.liberatedstocktrader.com/kdj-indicator/\n",
    "# features['low_10'] = features['bid_price_1'].rolling(window=10).min()\n",
    "# features['high_10'] = features['ask_price_1'].rolling(window=10).max()\n",
    "\n",
    "# # features['K'] = (features['mid_price'] - features['low_10']) / (features['high_10'] - features['low_10'])\n",
    "\n",
    "# # features['D'] = features['K'].rolling(window=10).mean()\n",
    "\n",
    "# # features['J'] = 3 * features['K'] - 2 * features['D']\n",
    "\n",
    "# # Calculate Kalman Filter\n",
    "# # https://en.wikipedia.org/wiki/Kalman_filter\n",
    "# # https://www.quantstart.com/articles/kalman-filter-based-pairs-trading-strategy-in-qstrader/\n",
    "# # https://www.quantstart.com/articles/kalman-filter-based-time-series-analysis-in-python/\n",
    "\n",
    "# features['kalman_prediction'] = features['mid_price']\n",
    "# features['kalman_gain'] = 0\n",
    "# features['kalman_variance'] = 0\n",
    "# features['kalman_prediction'].iloc[0] = features['mid_price'].iloc[0]\n",
    "# features['kalman_variance'].iloc[0] = 1\n",
    "\n",
    "# for i in range(1, len(features)):\n",
    "#     # prediction\n",
    "#     features['kalman_prediction'].iloc[i] = features['kalman_prediction'].iloc[i-1]\n",
    "#     features['kalman_variance'].iloc[i] = features['kalman_variance'].iloc[i-1] + 1\n",
    "\n",
    "#     # gain\n",
    "#     kalman_gain = features['kalman_variance'].iloc[i] / (features['kalman_variance'].iloc[i] + 1)\n",
    "#     features['kalman_gain'].iloc[i] = kalman_gain\n",
    "\n",
    "#     # update\n",
    "#     features['kalman_prediction'].iloc[i] = features['kalman_prediction'].iloc[i] + kalman_gain * (features['mid_price'].iloc[i] - features['kalman_prediction'].iloc[i])\n",
    "#     features['kalman_variance'].iloc[i] = (1 - kalman_gain) * features['kalman_variance'].iloc[i]\n",
    "\n",
    "# features['kalman_prediction_error'] = features['mid_price'] - features['kalman_prediction']\n",
    "\n",
    "\n",
    "\n",
    "# features = features.drop(columns=[\"low_10\", \"high_10\"])\n",
    "\n",
    "# features.head()"
   ]
  },
  {
   "cell_type": "code",
   "execution_count": null,
   "metadata": {},
   "outputs": [],
   "source": [
    "# # calculate RSI\n",
    "# # https://www.investopedia.com/terms/r/rsi.asp\n",
    "# delta = features['mid_price'].diff()\n",
    "# gain = (delta.where(delta > 0, 0)).rolling(window=14).mean()\n",
    "# loss = (-delta.where(delta < 0, 0)).rolling(window=14).mean()\n",
    "\n",
    "# features['RS'] = gain / loss\n",
    "# features['RSI'] = 100 - (100 / (1 + features['RS']))\n",
    "\n",
    "\n",
    "# # calculate exponential moving average\n",
    "# features['ema_10'] = features['mid_price'].ewm(span=10, adjust=False).mean()\n",
    "\n",
    "\n",
    "# # best bid is the bid price with highest volume\n",
    "# features[\"best_bid\"] = np.where(features['bid_volume_1'] > features['bid_volume_2'], np.where(features['bid_volume_1'] > features['bid_volume_3'], features['bid_price_1'], features['bid_price_3']), np.where(features['bid_volume_2'] > features['bid_volume_3'], features['bid_price_2'], features['bid_price_3']))\n",
    "\n",
    "# # # Replace ask_price_2, ask_volume_2, ask_price_3 and ask_volume_3 that are NaN with 0\n",
    "# features['ask_price_2'] = features['ask_price_2'].fillna(0)\n",
    "# features['ask_volume_2'] = features['ask_volume_2'].fillna(0)\n",
    "# features['ask_price_3'] = features['ask_price_3'].fillna(0)\n",
    "# features['ask_volume_3'] = features['ask_volume_3'].fillna(0)\n",
    "\n",
    "\n",
    "# # calculate PVT\n",
    "# # https://www.investopedia.com/terms/p/pricelinevolume.asp\n",
    "# features['PVT'] = features['mid_price'].pct_change() * features['bid_volume_1'].shift(10)\n",
    "# features['PVT'] = features['PVT'].cumsum()\n",
    "\n",
    "\n",
    "\n",
    "# # best ask is ask with highest volume\n",
    "# features[\"best_ask\"] = np.where(features['ask_volume_1'] > features['ask_volume_2'], \n",
    "#                     np.where(features['ask_volume_1'] > features['ask_volume_3'], features['ask_price_1'], \n",
    "#                              features['ask_price_3']), \n",
    "#                     np.where(features['ask_volume_2'] > features['ask_volume_3'], features['ask_price_2'], \n",
    "#                              features['ask_price_3']))\n",
    "\n",
    "# features['best_price'] = (features['best_bid'] + features['best_ask']) / 2\n",
    "\n",
    "\n"
   ]
  },
  {
   "cell_type": "code",
   "execution_count": null,
   "metadata": {},
   "outputs": [],
   "source": [
    "# calculate the  Williams Percent Range \n",
    "# https://www.investopedia.com/terms/w/williamsr.asp\n",
    "\n",
    "# features['highest_high'] = features['ask_price_1'].rolling(window=100).max()\n",
    "# features['lowest_low'] = features['bid_price_1'].rolling(window=100).min()\n",
    "\n",
    "# features['WPR'] = (features['highest_high'] - features['mid_price']) / (features['highest_high'] - features['lowest_low'])\n",
    "\n"
   ]
  },
  {
   "cell_type": "code",
   "execution_count": null,
   "metadata": {},
   "outputs": [],
   "source": [
    "# # calculate the Chande Momentum Oscillator \n",
    "# # https://www.investopedia.com/terms/c/com.asp\n",
    "\n",
    "# features['CMO'] = (features['mid_price'] - features['mid_price'].shift(14)) / (features['mid_price'] + features['mid_price'].shift(14))\n"
   ]
  },
  {
   "cell_type": "code",
   "execution_count": null,
   "metadata": {},
   "outputs": [],
   "source": [
    "# calculate the Stochastic Oscillator Indicator\n",
    "# https://www.investopedia.com/terms/s/stochasticoscillator.asp\n",
    "\n",
    "# features['lowest_low'] = features['mid_price'].rolling(window=200).min()\n",
    "# features['highest_high'] = features['mid_price'].rolling(window=200).max()\n",
    "\n",
    "# features['SOI'] = (features['mid_price'] - features['lowest_low']) / (features['highest_high'] - features['lowest_low'])"
   ]
  },
  {
   "cell_type": "code",
   "execution_count": null,
   "metadata": {},
   "outputs": [],
   "source": [
    "# # calculate the True Strength Index\n",
    "\n",
    "# features['delta'] = features['mid_price'].diff()\n",
    "# features['delta'] = features['delta'].fillna(0)\n",
    "\n",
    "# features['delta_up'] = features['delta'].where(features['delta'] > 0, 0)\n",
    "# features['delta_down'] = -features['delta'].where(features['delta'] < 0, 0)\n",
    "\n",
    "# features['EMA_up'] = features['delta_up'].ewm(span=14, adjust=False).mean()\n",
    "# features['EMA_down'] = features['delta_down'].ewm(span=14, adjust=False).mean()\n",
    "\n",
    "# features['RS'] = features['EMA_up'] / features['EMA_down']\n",
    "\n",
    "# features['TSI'] = 100 * features['RS'].ewm(span=25, adjust=False).mean()\n",
    "\n",
    "# features['TSI'] = features['TSI'].fillna(0)\n"
   ]
  },
  {
   "cell_type": "code",
   "execution_count": null,
   "metadata": {},
   "outputs": [],
   "source": [
    "# #calculate the Aroon Oscillator \n",
    "\n",
    "# features['aroon_up'] = features['mid_price'].rolling(window=25).apply(lambda x: x.argmax()) / 25 * 100\n",
    "# features['aroon_down'] = features['mid_price'].rolling(window=25).apply(lambda x: x.argmin()) / 25 * 100\n",
    "\n",
    "# features['aroon_oscillator'] = features['aroon_up'] - features['aroon_down']\n"
   ]
  },
  {
   "cell_type": "code",
   "execution_count": null,
   "metadata": {},
   "outputs": [],
   "source": [
    "# # Calculate Commodity Channel Index \n",
    "\n",
    "# features['typical_price'] = (features['mid_price'] + features['ask_price_1'] + features['bid_price_1']) / 3\n",
    "\n",
    "# features['mean_deviation'] = (features['typical_price'] - features['typical_price'].rolling(window=20).mean()).abs()\n",
    "\n",
    "# features['CCI'] = (features['typical_price'] - features['typical_price'].rolling(window=20).mean()) / (0.015 * features['mean_deviation'])"
   ]
  },
  {
   "cell_type": "code",
   "execution_count": null,
   "metadata": {},
   "outputs": [],
   "source": [
    "# # calculate A/D Oscillator\n",
    "\n",
    "# features['A/D'] = (features['mid_price'] - features['bid_price_1']) / (features['ask_price_1'] - features['bid_price_1'])"
   ]
  },
  {
   "cell_type": "code",
   "execution_count": null,
   "metadata": {},
   "outputs": [],
   "source": [
    "# # calculate the Standard Deviation Indicator\n",
    "\n",
    "# features['std'] = features['mid_price'].rolling(window=20).std()\n",
    "\n",
    "# # calculate the Momentum Indicator\n",
    "\n",
    "# features['momentum'] = features['mid_price'] - features['mid_price'].shift(4)\n",
    "\n",
    "# # calculate the Rate of Change\n",
    "\n",
    "# features['ROC'] = features['mid_price'].pct_change(4)\n",
    "\n",
    "# # calculate the Price Volume Trend\n",
    "\n",
    "# features['PVT'] = features['mid_price'].pct_change() * features['bid_volume_1'].shift(10)\n",
    "\n",
    "# features['PVT'] = features['PVT'].cumsum()\n",
    "\n",
    "\n",
    "\n"
   ]
  },
  {
   "cell_type": "code",
   "execution_count": null,
   "metadata": {},
   "outputs": [],
   "source": [
    "# # calculate the Accumulation Distribution Line\n",
    "\n",
    "# features['ADL'] = (features['mid_price'] - features['bid_price_1']) / (features['ask_price_1'] - features['bid_price_1'])\n",
    "\n",
    "# features[\"ADL\"] = features[\"ADL\"].fillna(0)\n",
    "# # calculate the Accumulation Distribution Oscillator\n",
    "\n",
    "# features['ADO'] = features['ADL'].rolling(window=20).mean()\n",
    "\n",
    "# features[\"ADO\"]\n"
   ]
  },
  {
   "cell_type": "code",
   "execution_count": null,
   "metadata": {},
   "outputs": [],
   "source": [
    "# # calculate Ichimoku cloud indicator\n",
    "\n",
    "# features['conversion_line'] = (features['mid_price'].rolling(window=9).max() + features['mid_price'].rolling(window=9).min()) / 2\n",
    "\n",
    "# features['base_line'] = (features['mid_price'].rolling(window=26).max() + features['mid_price'].rolling(window=26).min()) / 2\n",
    "\n",
    "# features['leading_span_A'] = ((features['conversion_line'] + features['base_line']) / 2).shift(26)\n",
    "\n",
    "# features['leading_span_B'] = ((features['mid_price'].rolling(window=52).max() + features['mid_price'].rolling(window=52).min()) / 2).shift(26)\n",
    "\n",
    "# features['lagging_span'] = features['mid_price'].shift(-26)\n",
    "\n",
    "# features['ichimoku_cloud'] = features['leading_span_A'] - features['leading_span_B']\n"
   ]
  },
  {
   "cell_type": "code",
   "execution_count": null,
   "metadata": {},
   "outputs": [],
   "source": [
    "# fill NaN with 0 in all bids and asks \n",
    "features['bid_price_2'] = features['bid_price_2'].fillna(0)\n",
    "features['bid_price_3'] = features['bid_price_3'].fillna(0)\n",
    "features['ask_price_2'] = features['ask_price_2'].fillna(0)\n",
    "features['ask_price_3'] = features['ask_price_3'].fillna(0)\n",
    "features['bid_volume_2'] = features['bid_volume_2'].fillna(0)\n",
    "features['bid_volume_3'] = features['bid_volume_3'].fillna(0)\n",
    "features['ask_volume_2'] = features['ask_volume_2'].fillna(0)\n",
    "features['ask_volume_3'] = features['ask_volume_3'].fillna(0)\n",
    "\n",
    "\n",
    "features[\"tot_vol\"] = features[\"bid_volume_1\"] + features[\"bid_volume_2\"] + features[\"bid_volume_3\"] + features[\"ask_volume_1\"] + features[\"ask_volume_2\"] + features[\"ask_volume_3\"]\n",
    "\n",
    "\n",
    "features[\"b1_va1_index\"] = features[\"bid_price_1\"] * features[\"ask_volume_1\"]\n",
    "features[\"b2_va2_index\"] = features[\"bid_price_2\"] * features[\"ask_volume_2\"]\n",
    "features[\"b3_va3_index\"] = features[\"bid_price_3\"] * features[\"ask_volume_3\"]\n",
    "\n",
    "features[\"a1_vb1_index\"] = features[\"ask_price_1\"] * features[\"bid_volume_1\"]\n",
    "features[\"a2_vb2_index\"] = features[\"ask_price_2\"] * features[\"bid_volume_2\"]\n",
    "features[\"a3_vb3_index\"] = features[\"ask_price_3\"] * features[\"bid_volume_3\"]\n",
    "\n",
    "\n",
    "features.head()\n"
   ]
  },
  {
   "cell_type": "code",
   "execution_count": null,
   "metadata": {},
   "outputs": [],
   "source": [
    "# calculate order book imbalance \n",
    "\n",
    "# replace NaN with 0\n",
    "features['bid_volume_2'] = features['bid_volume_2'].fillna(0)\n",
    "features['bid_volume_3'] = features['bid_volume_3'].fillna(0)\n",
    "features['ask_volume_2'] = features['ask_volume_2'].fillna(0)\n",
    "features['ask_volume_3'] = features['ask_volume_3'].fillna(0)\n",
    "\n",
    "features[\"order_book_imbalance\"] = (features[\"bid_volume_1\"] + features[\"bid_volume_2\"] + features[\"bid_volume_3\"]) - (features[\"ask_volume_1\"] + features[\"ask_volume_2\"] + features[\"ask_volume_3\"])\n",
    "\n",
    "features.head()"
   ]
  },
  {
   "cell_type": "code",
   "execution_count": null,
   "metadata": {},
   "outputs": [],
   "source": [
    "# calculate order book imbalance delta\n",
    "\n",
    "features[\"order_book_imbalance_delta\"] = features[\"order_book_imbalance\"].diff()\n",
    "\n",
    "features.head()"
   ]
  },
  {
   "cell_type": "code",
   "execution_count": null,
   "metadata": {},
   "outputs": [],
   "source": [
    "trades.drop(columns=[\"symbol\"], inplace=True)\n",
    "trades"
   ]
  },
  {
   "cell_type": "code",
   "execution_count": null,
   "metadata": {},
   "outputs": [],
   "source": [
    "trades = pd.concat([trades.groupby('timestamp').agg( NR = ('timestamp', 'count'),\n",
    "                                   quantity = ('quantity', 'sum')),\n",
    "           (trades.groupby('timestamp').apply(lambda gp: np.average(gp.price, weights=gp.quantity))\n",
    "             .rename('price'))], \n",
    "          axis=1)\n",
    "\n",
    "# make sure there's only one header\n",
    "trades = trades.reset_index()\n",
    "\n"
   ]
  },
  {
   "cell_type": "code",
   "execution_count": null,
   "metadata": {},
   "outputs": [],
   "source": [
    "# calculate the weighted ema of the trade prices\n",
    "trades[\"trade_times_volume\"] = (trades[\"price\"] * trades[\"quantity\"])\n",
    "\n",
    "# divide by the total volume in the order book\n",
    "\n",
    "# Sum of past trades times volume\n",
    "trades[\"last_10_tot_volume\"] = trades[\"quantity\"].rolling(window=10).sum()\n",
    "trades[\"last_10_tot_trade_times_volume\"] = trades[\"trade_times_volume\"].rolling(window=10).sum()\n",
    "\n",
    "# p1 * v1 = p1v1\n",
    "# p2 * v2 = p2v2\n",
    "# p3 * v3 = p3v3\n",
    "# p4 * v4 = p4v4\n",
    "\n",
    "# p1v1 + p2v2 + p3v3 + p4v4 = p1v1 + p2v2 + p3v3 + p4v4 / (v1 + v2 + v3 + v4)\n",
    "\n",
    "\n",
    "\n",
    "trades[\"weighted_price_volume\"] = trades[\"last_10_tot_trade_times_volume\"] / trades[\"last_10_tot_volume\"]\n",
    "\n",
    "\n",
    "ema_param = 0.5\n",
    "\n",
    "trades[\"trades_ema10\"] = (trades[\"weighted_price_volume\"]*(ema_param) + trades[\"weighted_price_volume\"].shift(1)*(1-ema_param))\n",
    "\n",
    "\n",
    "\n",
    "# trades[\"weighted_ema_trade_price\"] = trades[\"weighted_price_volume\"].ewm(span=10, adjust=False).mean()\n",
    " \n",
    "trades.drop(columns=[\"trade_times_volume\", \"NR\", \"weighted_price_volume\", \"price\", \"last_10_tot_volume\", \"last_10_tot_trade_times_volume\", \"quantity\"], inplace=True)\n",
    "\n",
    "trades.dropna(inplace=True)\n",
    "\n",
    "trades"
   ]
  },
  {
   "cell_type": "code",
   "execution_count": null,
   "metadata": {},
   "outputs": [],
   "source": [
    "features"
   ]
  },
  {
   "cell_type": "code",
   "execution_count": null,
   "metadata": {},
   "outputs": [],
   "source": [
    "# get the real midprice by calculating the average of the bid with the most volume and the ask with the most volume\n",
    "features[\"bid_with_most_volume\"] = np.where(features['bid_volume_1'] > features['bid_volume_2'], np.where(features['bid_volume_1'] > features['bid_volume_3'], features['bid_price_1'], features['bid_price_3']), np.where(features['bid_volume_2'] > features['bid_volume_3'], features['bid_price_2'], features['bid_price_3']))\n",
    "\n",
    "features[\"ask_with_most_volume\"] = np.where(features['ask_volume_1'] > features['ask_volume_2'], np.where(features['ask_volume_1'] > features['ask_volume_3'], features['ask_price_1'], features['ask_price_3']), np.where(features['ask_volume_2'] > features['ask_volume_3'], features['ask_price_2'], features['ask_price_3']))\n",
    "\n",
    "features[\"mid_price\"] = (features[\"bid_with_most_volume\"] + features[\"ask_with_most_volume\"]) / 2\n",
    "\n",
    "features.drop(columns=[\"bid_with_most_volume\", \"ask_with_most_volume\"], inplace=True)\n",
    "# drop all the volume indexes\n",
    "features = features.drop(columns=[\"b1_va1_index\", \"b2_va2_index\", \"b3_va3_index\", \"a1_vb1_index\", \"a2_vb2_index\", \"a3_vb3_index\"])\n"
   ]
  },
  {
   "cell_type": "code",
   "execution_count": null,
   "metadata": {},
   "outputs": [],
   "source": [
    "# drop all the bids and asks\n",
    "features = features.drop(columns=[\"bid_volume_1\", \"bid_volume_2\", \"bid_volume_3\", \"ask_volume_1\", \"ask_volume_2\", \"ask_volume_3\"])\n",
    "features"
   ]
  },
  {
   "cell_type": "code",
   "execution_count": null,
   "metadata": {},
   "outputs": [],
   "source": [
    "features = features[32:]\n",
    "\n"
   ]
  },
  {
   "cell_type": "code",
   "execution_count": null,
   "metadata": {},
   "outputs": [],
   "source": [
    "# interpolate the ema10 into the timestamp column of the features dataframe\n",
    "features[\"trades_ema10\"] = np.interp(features['timestamp'], trades['timestamp'], trades['trades_ema10'])"
   ]
  },
  {
   "cell_type": "code",
   "execution_count": null,
   "metadata": {},
   "outputs": [],
   "source": [
    "# Merge any trades that happen at the same timestamp and average their price\n",
    "\n",
    "features\n"
   ]
  },
  {
   "cell_type": "code",
   "execution_count": null,
   "metadata": {},
   "outputs": [],
   "source": [
    "# calculate ema_10\n",
    "\n",
    "ema_param = 0.3\n",
    "\n",
    "features[\"ema_10\"] = features[\"mid_price\"] * ema_param + features[\"mid_price\"].shift(1) * (1-ema_param)"
   ]
  },
  {
   "cell_type": "code",
   "execution_count": null,
   "metadata": {},
   "outputs": [],
   "source": [
    "# Replace zeros with NaN in all bids and asks\n",
    "features['bid_price_2'] = features['bid_price_2'].replace(0, np.nan)\n",
    "features['bid_price_3'] = features['bid_price_3'].replace(0, np.nan)\n",
    "features['ask_price_2'] = features['ask_price_2'].replace(0, np.nan)\n",
    "features['ask_price_3'] = features['ask_price_3'].replace(0, np.nan)"
   ]
  },
  {
   "cell_type": "code",
   "execution_count": null,
   "metadata": {},
   "outputs": [],
   "source": [
    "# count rows with NaN\n",
    "features.isnull().sum()"
   ]
  },
  {
   "cell_type": "code",
   "execution_count": null,
   "metadata": {},
   "outputs": [],
   "source": [
    "\n",
    "\n",
    "# # drop first and last row\n",
    "# features = features.iloc[1:-1]\n",
    "\n",
    "# features = features[100:500]\n",
    "\n",
    "\n",
    "# fig, subplt = plt.subplots(3, figsize=(100, 50))\n",
    "\n",
    "# # plot lowest ask in red\n",
    "# subplt[0].plot(features['timestamp'], features['ask_price_1'], color='red', label='Lowest Ask')\n",
    "# # plot the second ask in light red\n",
    "# subplt[0].plot(features['timestamp'], features['ask_price_2'], color='lightcoral', label='Second Lowest Ask')\n",
    "# # plot the third ask in even lighter red\n",
    "# subplt[0].plot(features['timestamp'], features['ask_price_3'], color='pink', label='Third Lowest Ask')\n",
    "\n",
    "# # plot the highest bid in green\n",
    "# subplt[0].plot(features['timestamp'], features['bid_price_1'], color='green', label='Highest Bid')\n",
    "# # plot the second bid in light green\n",
    "# subplt[0].plot(features['timestamp'], features['bid_price_2'], color='lightgreen', label='Second Highest Bid')\n",
    "# # plot the third bid in even lighter green, connecting the dots that are NaN\n",
    "# subplt[0].plot(features['timestamp'], features['bid_price_3'], color='lightgreen', label='Third Highest Bid')\n",
    "\n",
    "# # p[0]lot the trades\n",
    "# subplt[0].plot(features['timestamp'], features['trades_ema10'], color='red', label='Trades')\n",
    "# subplt[0].legend()\n",
    "\n",
    "# # plot orderbook imbalance \n",
    "# subplt[1].plot(features['timestamp'], features['order_book_imbalance'], label='Order Book Imbalance')\n",
    "# subplt[1].legend()\n",
    "\n",
    "# subplt[2].plot(features['timestamp'], features['order_book_imbalance_delta'], label='Order Book Imbalance Delta')\n",
    "# subplt[2].plot(features['timestamp'], features['order_book_imbalance'], label='Order Book Imbalance')\n",
    "# subplt[2].legend()\n",
    "\n",
    "# # plot the trades in red\n",
    "# subplt[0].scatter(features['timestamp'], features['trade_price'], color='red', label='Trades')\n",
    "\n",
    "# subplt.plot(features['timestamp'], features['mid_price'], label='Mid Price')\n",
    "# subplt[0].legend()\n",
    "\n",
    "# plot kalman filter\n",
    "# subplt[1].plot(features['timestamp'], features['mid_price'], label='Mid Price')\n",
    "# subplt[1].plot(features['timestamp'], features['kalman_prediction'], label='Kalman Prediction')\n",
    "# subplt[1].legend()\n",
    "\n",
    "\n",
    "# # plot the CCI\n",
    "# subplt[1].plot(features['timestamp'], features['b1_va1_index'], label='b1_va1_index\"')\n",
    "# subplt[1].plot(features['timestamp'], features['b2_va2_index'], label='b2_va2_index')\n",
    "# subplt[1].plot(features['timestamp'], features['b3_va3_index'], label='b3_va3_index')\n",
    "# subplt[1].plot(features['timestamp'], features['a1_vb1_index'], label='a1_vb1_index')\n",
    "# subplt[1].plot(features['timestamp'], features['a2_vb2_index'], label='a2_vb2_index')\n",
    "# subplt[1].plot(features['timestamp'], features['a3_vb3_index'], label='a3_vb3_index')\n",
    "\n",
    "# # plot RSI in a different plot\n",
    "# subplt[5].plot(features['timestamp'], features['RSI'], label='RSI')\n",
    "# subplt[5].axhline(y=27, color='r', linestyle='--')\n",
    "# subplt[5].axhline(y=78, color='r', linestyle='--')\n",
    "# subplt[5].legend()\n",
    "\n",
    "\n",
    "\n",
    "# # plot the Chande Momentum Oscillator \n",
    "# subplt[2].plot(features['timestamp'], features['CMO'], label='CMO')\n",
    "# subplt[2].axhline(y=0.00069, color='r', linestyle='--')\n",
    "# subplt[2].axhline(y=-0.00069, color='r', linestyle='--')\n",
    "# subplt[2].legend()\n",
    "\n",
    "# # plot the true strength index\n",
    "# subplt[3].plot(features['timestamp'], features['TSI'], label='TSI')\n",
    "# subplt[3].axhline(y=75, color='r', linestyle='--')\n",
    "# subplt[3].axhline(y=150, color='r', linestyle='--')\n",
    "# subplt[3].legend()\n",
    "\n",
    "# # plot Ichimoku cloud indicator\n",
    "# subplt[4].plot(features['timestamp'], features['ichimoku_cloud'], label='Ichimoku Cloud')\n",
    "# subplt[4].axhline(y=3, color='r', linestyle='--')\n",
    "# subplt[4].axhline(y=-3, color='r', linestyle='--')\n",
    "# subplt[4].legend()\n"
   ]
  },
  {
   "cell_type": "code",
   "execution_count": null,
   "metadata": {},
   "outputs": [],
   "source": [
    "\n",
    "\n",
    "features = features.drop(columns=[\"bid_price_1\",  \"bid_price_2\",  \"bid_price_3\",\"ask_price_1\", \"ask_price_2\", \"ask_price_3\",])\n",
    "\n",
    "# features = features.drop(columns=[])\n",
    "\n",
    "# features = features.drop(columns=[\"order_book_imbalance\", \"order_book_imbalance_delta\"])\n",
    "\n",
    "# features = features.drop(columns=[\"b1_va1_index\", \"b2_va2_index\", \"b3_va3_index\", \"a1_vb1_index\", \"a2_vb2_index\", \"a3_vb3_index\"])\n",
    "\n",
    "\n",
    "features = features.drop(columns=[ \"product\"])\n",
    "\n",
    "features\n",
    "features = features.drop(columns=[\"timestamp\"])\n",
    "\n",
    "features = features.dropna()\n",
    "\n",
    "features[200:400]\n"
   ]
  },
  {
   "cell_type": "code",
   "execution_count": null,
   "metadata": {},
   "outputs": [],
   "source": [
    "data_X = features.loc[:,features.columns !=  'trades_ema10' ]\n",
    "data_Y = features['trades_ema10']\n",
    "train_X, test_X, train_y,test_y = train_test_split(data_X,data_Y,test_size=0.2)\n",
    "\n",
    "print('\\n\\nTraining Set')\n",
    "print(train_X.head())\n",
    "print(train_y.head())"
   ]
  },
  {
   "cell_type": "code",
   "execution_count": null,
   "metadata": {},
   "outputs": [],
   "source": [
    "#Creating the Regressor\n",
    "regressor = LinearRegression()\n",
    "regressor.fit(train_X,train_y)"
   ]
  },
  {
   "cell_type": "code",
   "execution_count": null,
   "metadata": {},
   "outputs": [],
   "source": [
    "predict_y = regressor.predict(test_X)\n",
    "print('Prediction Score : ' , regressor.score(test_X,test_y))\n",
    "\n",
    "error = mean_squared_error(test_y,predict_y)\n",
    "print('Mean Squared Error : ',error)"
   ]
  },
  {
   "cell_type": "code",
   "execution_count": null,
   "metadata": {},
   "outputs": [],
   "source": [
    "print(regressor.coef_)\n",
    "print(regressor.intercept_)\n"
   ]
  }
 ],
 "metadata": {
  "kernelspec": {
   "display_name": "trading-xpfupB2j",
   "language": "python",
   "name": "python3"
  },
  "language_info": {
   "codemirror_mode": {
    "name": "ipython",
    "version": 3
   },
   "file_extension": ".py",
   "mimetype": "text/x-python",
   "name": "python",
   "nbconvert_exporter": "python",
   "pygments_lexer": "ipython3",
   "version": "3.12.2"
  }
 },
 "nbformat": 4,
 "nbformat_minor": 2
}
