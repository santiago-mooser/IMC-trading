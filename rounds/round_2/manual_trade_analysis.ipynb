{
 "cells": [
  {
   "cell_type": "code",
   "execution_count": 1,
   "metadata": {},
   "outputs": [
    {
     "name": "stdout",
     "output_type": "stream",
     "text": [
      "{'SHELLS': {'PIZZA': -0.34358970439007686, 'WASABI': 0.4942963218147801, 'SNOWBALL': -0.7323678937132266}, 'PIZZA': {'SHELLS': 0.342490308946776, 'WASABI': 0.7339691750802004, 'SNOWBALL': -0.41871033485818504}, 'WASABI': {'SHELLS': 0.4942963218147801, 'PIZZA': -0.7178397931503168, 'SNOWBALL': -1.1817271953786161}, 'SNOWBALL': {'SHELLS': 0.4462871026284195, 'PIZZA': 0.4462871026284195, 'WASABI': 1.2039728043259361}}\n"
     ]
    }
   ],
   "source": [
    "import math\n",
    "\n",
    "# here we are solving for the most profitable trade in a directed graph\n",
    "\n",
    "# we are given a list of exchange rates, and we want to find the most profitable path through the graph\n",
    "\n",
    "# we can do this by using a depth first search algorithm\n",
    "\n",
    "# we will start at the first node, and then recursively call the function on all of the nodes that are connected to it\n",
    "\n",
    "# we will keep track of the current path, and the current profit\n",
    "\n",
    "# we will also keep track of the best path and the best profit\n",
    "\n",
    "# if we reach the end of the path, we will compare the profit to the best profit, and if it is better, we will update the best profit and best path\n",
    "\n",
    "# we will then return the best profit and best path\n",
    "\n",
    "# First we create the graph\n",
    "\n",
    "graph = {\n",
    "    'SHELLS':   {'PIZZA': 1.41, 'WASABI': 0.61, 'SNOWBALL': 2.08},\n",
    "    'PIZZA':    {'SHELLS': 0.71, 'WASABI': 0.48, 'SNOWBALL': 1.52},\n",
    "    'WASABI':   {'SHELLS': 0.61, 'PIZZA': 2.05,  'SNOWBALL': 3.26},\n",
    "    'SNOWBALL': {'SHELLS': 0.64, 'PIZZA': 0.64, 'WASABI': 0.3}\n",
    "}\n",
    "\n",
    "\n",
    "# get the negative log of all the exchange rates\n",
    "for node in graph:\n",
    "    for neighbor in graph[node]:\n",
    "        graph[node][neighbor] = -math.log(graph[node][neighbor])\n",
    "\n",
    "print(graph)"
   ]
  },
  {
   "cell_type": "code",
   "execution_count": 6,
   "metadata": {},
   "outputs": [
    {
     "data": {
      "text/plain": [
       "['SHELLS', 'PIZZA', 'WASABI', 'SNOWBALL']"
      ]
     },
     "execution_count": 6,
     "metadata": {},
     "output_type": "execute_result"
    }
   ],
   "source": [
    "list(graph.keys())"
   ]
  },
  {
   "cell_type": "code",
   "execution_count": 7,
   "metadata": {},
   "outputs": [
    {
     "ename": "TypeError",
     "evalue": "object of type 'NoneType' has no len()",
     "output_type": "error",
     "traceback": [
      "\u001b[0;31m---------------------------------------------------------------------------\u001b[0m",
      "\u001b[0;31mTypeError\u001b[0m                                 Traceback (most recent call last)",
      "Cell \u001b[0;32mIn[7], line 14\u001b[0m\n\u001b[1;32m     10\u001b[0m       paths\u001b[38;5;241m.\u001b[39mappend(path)\n\u001b[1;32m     11\u001b[0m   \u001b[38;5;28;01mreturn\u001b[39;00m paths\n\u001b[0;32m---> 14\u001b[0m paths \u001b[38;5;241m=\u001b[39m \u001b[43mgenerate_all_cycles\u001b[49m\u001b[43m(\u001b[49m\u001b[43m[\u001b[49m\u001b[38;5;124;43m'\u001b[39;49m\u001b[38;5;124;43mSHELLS\u001b[39;49m\u001b[38;5;124;43m'\u001b[39;49m\u001b[43m,\u001b[49m\u001b[43m \u001b[49m\u001b[38;5;124;43m'\u001b[39;49m\u001b[38;5;124;43mPIZZA\u001b[39;49m\u001b[38;5;124;43m'\u001b[39;49m\u001b[43m,\u001b[49m\u001b[43m \u001b[49m\u001b[38;5;124;43m'\u001b[39;49m\u001b[38;5;124;43mWASABI\u001b[39;49m\u001b[38;5;124;43m'\u001b[39;49m\u001b[43m,\u001b[49m\u001b[43m \u001b[49m\u001b[38;5;124;43m'\u001b[39;49m\u001b[38;5;124;43mSNOWBALL\u001b[39;49m\u001b[38;5;124;43m'\u001b[39;49m\u001b[43m]\u001b[49m\u001b[43m,\u001b[49m\u001b[43m \u001b[49m\u001b[43m[\u001b[49m\u001b[43m]\u001b[49m\u001b[43m)\u001b[49m\n\u001b[1;32m     16\u001b[0m paths\n",
      "Cell \u001b[0;32mIn[7], line 8\u001b[0m, in \u001b[0;36mgenerate_all_cycles\u001b[0;34m(possible_nodes, path)\u001b[0m\n\u001b[1;32m      6\u001b[0m   \u001b[38;5;28;01mreturn\u001b[39;00m []\n\u001b[1;32m      7\u001b[0m \u001b[38;5;28;01mfor\u001b[39;00m i, _ \u001b[38;5;129;01min\u001b[39;00m \u001b[38;5;28menumerate\u001b[39m(possible_nodes):\n\u001b[0;32m----> 8\u001b[0m   path \u001b[38;5;241m=\u001b[39m \u001b[43mgenerate_all_cycles\u001b[49m\u001b[43m(\u001b[49m\u001b[43mpossible_nodes\u001b[49m\u001b[43m[\u001b[49m\u001b[43mi\u001b[49m\u001b[43m:\u001b[49m\u001b[43m]\u001b[49m\u001b[43m,\u001b[49m\u001b[43m \u001b[49m\u001b[43mpath\u001b[49m\u001b[38;5;241;43m.\u001b[39;49m\u001b[43mappend\u001b[49m\u001b[43m(\u001b[49m\u001b[43mpossible_nodes\u001b[49m\u001b[43m[\u001b[49m\u001b[43mi\u001b[49m\u001b[43m]\u001b[49m\u001b[43m)\u001b[49m\u001b[43m)\u001b[49m\n\u001b[1;32m      9\u001b[0m   \u001b[38;5;28;01mif\u001b[39;00m path \u001b[38;5;241m!=\u001b[39m []:\n\u001b[1;32m     10\u001b[0m     paths\u001b[38;5;241m.\u001b[39mappend(path)\n",
      "Cell \u001b[0;32mIn[7], line 5\u001b[0m, in \u001b[0;36mgenerate_all_cycles\u001b[0;34m(possible_nodes, path)\u001b[0m\n\u001b[1;32m      3\u001b[0m \u001b[38;5;28;01mdef\u001b[39;00m \u001b[38;5;21mgenerate_all_cycles\u001b[39m(possible_nodes, path):\n\u001b[1;32m      4\u001b[0m   paths \u001b[38;5;241m=\u001b[39m []\n\u001b[0;32m----> 5\u001b[0m   \u001b[38;5;28;01mif\u001b[39;00m \u001b[38;5;28;43mlen\u001b[39;49m\u001b[43m(\u001b[49m\u001b[43mpath\u001b[49m\u001b[43m)\u001b[49m \u001b[38;5;241m>\u001b[39m \u001b[38;5;241m5\u001b[39m:\n\u001b[1;32m      6\u001b[0m     \u001b[38;5;28;01mreturn\u001b[39;00m []\n\u001b[1;32m      7\u001b[0m   \u001b[38;5;28;01mfor\u001b[39;00m i, _ \u001b[38;5;129;01min\u001b[39;00m \u001b[38;5;28menumerate\u001b[39m(possible_nodes):\n",
      "\u001b[0;31mTypeError\u001b[0m: object of type 'NoneType' has no len()"
     ]
    }
   ],
   "source": [
    "\n",
    "# recursive algorithm to generate all possible cycles in the graph\n",
    "\n",
    "def generate_all_cycles(possible_nodes, path):\n",
    "  paths = []\n",
    "  if len(path) > 5:\n",
    "    return []\n",
    "  for i, _ in enumerate(possible_nodes):\n",
    "    path = generate_all_cycles(possible_nodes[i:], path.append(possible_nodes[i]))\n",
    "    if path != []:\n",
    "      paths.append(path)\n",
    "  return paths\n",
    "\n",
    "\n",
    "paths = generate_all_cycles(['SHELLS', 'PIZZA', 'WASABI', 'SNOWBALL'], [])\n",
    "\n",
    "paths\n",
    "\n"
   ]
  },
  {
   "cell_type": "code",
   "execution_count": null,
   "metadata": {},
   "outputs": [
    {
     "data": {
      "text/plain": [
       "[['SHELLS', 'PIZZA', 'SHELLS', 'WASABI', 'SHELLS', 'SNOWBALL'],\n",
       " ['SHELLS', 'PIZZA', 'SHELLS', 'SNOWBALL', 'SHELLS', 'WASABI'],\n",
       " ['SHELLS', 'WASABI', 'SHELLS', 'PIZZA', 'SHELLS', 'SNOWBALL'],\n",
       " ['SHELLS', 'WASABI', 'SHELLS', 'SNOWBALL', 'SHELLS', 'PIZZA'],\n",
       " ['SHELLS', 'SNOWBALL', 'SHELLS', 'PIZZA', 'SHELLS', 'WASABI'],\n",
       " ['SHELLS', 'SNOWBALL', 'SHELLS', 'WASABI', 'SHELLS', 'PIZZA']]"
      ]
     },
     "execution_count": 36,
     "metadata": {},
     "output_type": "execute_result"
    }
   ],
   "source": [
    "# find the cycle that starts and ends in SHELLS with the highest cost \n",
    "\n",
    "\n",
    "# first, define a function that returns the cost of the path, where the cost is just the sum of the vertices in the path\n",
    "\n",
    "def cost(path):\n",
    "    total = 0\n",
    "    for i in range(len(path) - 1):\n",
    "        total += graph[path[i]][path[i + 1]]\n",
    "    return total\n",
    "\n",
    "\n",
    "# create all possible paths, including paths that go back to previous nodes\n",
    "def find_all_paths(nodes, current_node, path=[], visited=[], max_length=5):\n",
    "  \"\"\"\n",
    "  This function finds all possible paths starting and ending in a specific node \n",
    "  within a maximum path length.\n",
    "\n",
    "  Args:\n",
    "      nodes: List of all nodes.\n",
    "      current_node: The current node being explored in the path.\n",
    "      path: Current path as a list (used for recursion).\n",
    "      visited: List of visited nodes (used to avoid cycles except for ending at SHELLS).\n",
    "      max_length: Maximum allowed path length (including starting and ending nodes).\n",
    "\n",
    "  Returns:\n",
    "      A list of all possible paths as lists.\n",
    "  \"\"\"\n",
    "  paths = []\n",
    "  \n",
    "  # Check if path is complete (ends at SHELLS and has reached max length)\n",
    "  if current_node == \"SHELLS\" and len(path) == max_length + 1:\n",
    "    return [path.copy()]\n",
    "\n",
    "  # Check if path is too long or has already visited a node (excluding SHELLS)\n",
    "  if len(path) > max_length or (current_node in visited and current_node != \"SHELLS\"):\n",
    "    return []\n",
    "\n",
    "  # Update visited list and path\n",
    "  visited.append(current_node)\n",
    "  path.append(current_node)\n",
    "\n",
    "  # Explore all neighbors\n",
    "  for neighbor in nodes:\n",
    "    if neighbor != current_node:\n",
    "      # Recursively find paths from neighbors\n",
    "      new_paths = find_all_paths(nodes, neighbor, path.copy(), visited.copy(), max_length)\n",
    "      paths.extend(new_paths)\n",
    "\n",
    "  # Backtrack (remove current node from visited and path)\n",
    "  visited.remove(current_node)\n",
    "  path.pop()\n",
    "\n",
    "  return paths\n",
    "\n",
    "# Example usage\n",
    "nodes = ['SHELLS', 'PIZZA', 'WASABI', 'SNOWBALL']\n",
    "all_paths = find_all_paths(nodes, \"SHELLS\")\n",
    "\n",
    "# Print all found paths\n",
    "\n",
    "all_"
   ]
  },
  {
   "cell_type": "code",
   "execution_count": null,
   "metadata": {},
   "outputs": [],
   "source": [
    "\n",
    "# append shells to the end of each path\n",
    "for path in paths:\n",
    "    path.append('SHELLS')\n",
    "    \n",
    "# remove all paths that don't start in SHELLS\n",
    "paths = [path for path in paths if path[0] == 'SHELLS']\n",
    "\n",
    "# remove all paths that don't end in SHELLS\n",
    "paths = [path for path in paths if path[-1] == 'SHELLS']\n",
    "\n",
    "\n",
    "# remove SHELLS SHELLS\n",
    "paths.remove(['SHELLS', 'SHELLS'])"
   ]
  },
  {
   "cell_type": "code",
   "execution_count": null,
   "metadata": {},
   "outputs": [
    {
     "data": {
      "text/plain": [
       "(0.05640951786196885, ['SHELLS', 'SNOWBALL', 'PIZZA', 'SHELLS'])"
      ]
     },
     "execution_count": 34,
     "metadata": {},
     "output_type": "execute_result"
    }
   ],
   "source": [
    "# Calculate the cost of a given path \n",
    "\n",
    "def cost(path):\n",
    "    total = 0\n",
    "    for i in range(len(path) - 1):\n",
    "        total += graph[path[i]][path[i + 1]]\n",
    "    return total\n",
    "\n",
    "# find the path with the minimum cost that is not negative\n",
    "min_cost = math.inf\n",
    "min_path = []\n",
    "for path in paths:\n",
    "    c = cost(path)\n",
    "    if c < min_cost and c > 0:\n",
    "        min_cost = c\n",
    "        min_path = path\n",
    "\n",
    "min_cost, min_path\n"
   ]
  }
 ],
 "metadata": {
  "kernelspec": {
   "display_name": "trading-xpfupB2j",
   "language": "python",
   "name": "python3"
  },
  "language_info": {
   "codemirror_mode": {
    "name": "ipython",
    "version": 3
   },
   "file_extension": ".py",
   "mimetype": "text/x-python",
   "name": "python",
   "nbconvert_exporter": "python",
   "pygments_lexer": "ipython3",
   "version": "3.12.2"
  }
 },
 "nbformat": 4,
 "nbformat_minor": 2
}
