{
 "cells": [
  {
   "cell_type": "code",
   "execution_count": 1,
   "metadata": {},
   "outputs": [
    {
     "name": "stderr",
     "output_type": "stream",
     "text": [
      "/Users/Leo.Leung/Library/Python/3.11/lib/python/site-packages/tqdm/auto.py:21: TqdmWarning: IProgress not found. Please update jupyter and ipywidgets. See https://ipywidgets.readthedocs.io/en/stable/user_install.html\n",
      "  from .autonotebook import tqdm as notebook_tqdm\n"
     ]
    }
   ],
   "source": [
    "import sys\n",
    "# caution: path[0] is reserved for script path (or '' in REPL)\n",
    "sys.path.insert(1, '../../../prosperity2bt/')\n",
    "\n",
    "import hypertune\n",
    "import round_3_train \n",
    "import optuna"
   ]
  },
  {
   "cell_type": "code",
   "execution_count": 91,
   "metadata": {},
   "outputs": [
    {
     "data": {
      "text/plain": [
       "<module 'round_3_train' from '/Users/Leo.Leung/code/IMC-trading/rounds/round_3/round_3_train.py'>"
      ]
     },
     "execution_count": 91,
     "metadata": {},
     "output_type": "execute_result"
    }
   ],
   "source": [
    "from importlib import reload\n",
    "reload(round_3_train)"
   ]
  },
  {
   "cell_type": "code",
   "execution_count": 89,
   "metadata": {},
   "outputs": [],
   "source": [
    "def objective(trial) -> float:\n",
    "    '''\n",
    "    The oobjective function for the optimisation problem.\n",
    "    \n",
    "    Args:\n",
    "        trial: optuna.trial object\n",
    "        X_train: ndarray or DataFrame, The features of training dataset\n",
    "        y_train: Index or array-like, The Target of training dataset\n",
    "        X_val: ndarray or DataFrame, The features of validation dastaset\n",
    "        y_val: Index or array-like, The Target of validation dataset\n",
    "\n",
    "    Returns:\n",
    "        numeric, the performance mertic for the model training\n",
    "    '''\n",
    "    # the parameters you want to optimise and the sapce you wanna search\n",
    "    a = trial.suggest_int('a', 10, 300)\n",
    "    b = trial.suggest_int('b', 10, 100)\n",
    "    \n",
    "    profit = hypertune.get_profit(round_3_train.Trader(multiper = 0.4, der_res = a, diff_thresh= b),'../../../prosperity2bt/resources')\n",
    "    return profit\n",
    "\n",
    "def hyper_tune(direction=\"maximize\", n_trials=100):\n",
    "    study_name=\"Linear Regression\"\n",
    "    direction=direction # maximize or minimize\n",
    "    n_trials=n_trials\n",
    "\n",
    "    study = optuna.create_study(direction=direction, study_name=study_name)\n",
    "    func = lambda trial: objective(trial)\n",
    "    study.optimize(func, n_trials=n_trials)\n",
    "    return study"
   ]
  },
  {
   "cell_type": "code",
   "execution_count": 90,
   "metadata": {},
   "outputs": [
    {
     "name": "stderr",
     "output_type": "stream",
     "text": [
      "[I 2024-04-18 14:19:23,036] A new study created in memory with name: Linear Regression\n",
      "[I 2024-04-18 14:19:24,480] Trial 0 finished with value: -11025.0 and parameters: {'a': 111, 'b': 41}. Best is trial 0 with value: -11025.0.\n",
      "[I 2024-04-18 14:19:25,796] Trial 1 finished with value: -11025.0 and parameters: {'a': 65, 'b': 81}. Best is trial 0 with value: -11025.0.\n",
      "[I 2024-04-18 14:19:27,268] Trial 2 finished with value: -11025.0 and parameters: {'a': 240, 'b': 65}. Best is trial 0 with value: -11025.0.\n",
      "[I 2024-04-18 14:19:28,599] Trial 3 finished with value: -11025.0 and parameters: {'a': 206, 'b': 68}. Best is trial 0 with value: -11025.0.\n",
      "[I 2024-04-18 14:19:29,955] Trial 4 finished with value: -11025.0 and parameters: {'a': 109, 'b': 46}. Best is trial 0 with value: -11025.0.\n",
      "[I 2024-04-18 14:19:31,195] Trial 5 finished with value: -11025.0 and parameters: {'a': 254, 'b': 37}. Best is trial 0 with value: -11025.0.\n",
      "[I 2024-04-18 14:19:32,532] Trial 6 finished with value: -13475.0 and parameters: {'a': 12, 'b': 11}. Best is trial 0 with value: -11025.0.\n",
      "[I 2024-04-18 14:19:33,849] Trial 7 finished with value: -11025.0 and parameters: {'a': 46, 'b': 70}. Best is trial 0 with value: -11025.0.\n",
      "[I 2024-04-18 14:19:35,222] Trial 8 finished with value: -13475.0 and parameters: {'a': 234, 'b': 25}. Best is trial 0 with value: -11025.0.\n",
      "[I 2024-04-18 14:19:36,653] Trial 9 finished with value: -13475.0 and parameters: {'a': 218, 'b': 16}. Best is trial 0 with value: -11025.0.\n",
      "[I 2024-04-18 14:19:37,984] Trial 10 finished with value: -11025.0 and parameters: {'a': 146, 'b': 88}. Best is trial 0 with value: -11025.0.\n",
      "[I 2024-04-18 14:19:39,303] Trial 11 finished with value: -11025.0 and parameters: {'a': 90, 'b': 100}. Best is trial 0 with value: -11025.0.\n",
      "[I 2024-04-18 14:19:40,631] Trial 12 finished with value: -11025.0 and parameters: {'a': 84, 'b': 52}. Best is trial 0 with value: -11025.0.\n",
      "[I 2024-04-18 14:19:41,961] Trial 13 finished with value: -11025.0 and parameters: {'a': 156, 'b': 83}. Best is trial 0 with value: -11025.0.\n",
      "[I 2024-04-18 14:19:43,285] Trial 14 finished with value: -11025.0 and parameters: {'a': 296, 'b': 37}. Best is trial 0 with value: -11025.0.\n",
      "[I 2024-04-18 14:19:44,611] Trial 15 finished with value: -11025.0 and parameters: {'a': 140, 'b': 59}. Best is trial 0 with value: -11025.0.\n",
      "[I 2024-04-18 14:19:46,029] Trial 16 finished with value: -11025.0 and parameters: {'a': 54, 'b': 80}. Best is trial 0 with value: -11025.0.\n",
      "[I 2024-04-18 14:19:47,360] Trial 17 finished with value: -11025.0 and parameters: {'a': 15, 'b': 41}. Best is trial 0 with value: -11025.0.\n",
      "[I 2024-04-18 14:19:48,701] Trial 18 finished with value: -11025.0 and parameters: {'a': 175, 'b': 100}. Best is trial 0 with value: -11025.0.\n",
      "[I 2024-04-18 14:19:50,066] Trial 19 finished with value: -13475.0 and parameters: {'a': 114, 'b': 23}. Best is trial 0 with value: -11025.0.\n",
      "[I 2024-04-18 14:19:51,430] Trial 20 finished with value: -11025.0 and parameters: {'a': 58, 'b': 76}. Best is trial 0 with value: -11025.0.\n",
      "[I 2024-04-18 14:19:52,679] Trial 21 finished with value: -11025.0 and parameters: {'a': 191, 'b': 61}. Best is trial 0 with value: -11025.0.\n",
      "[I 2024-04-18 14:19:54,026] Trial 22 finished with value: -11025.0 and parameters: {'a': 261, 'b': 89}. Best is trial 0 with value: -11025.0.\n",
      "[I 2024-04-18 14:19:55,401] Trial 23 finished with value: -11025.0 and parameters: {'a': 120, 'b': 68}. Best is trial 0 with value: -11025.0.\n",
      "[I 2024-04-18 14:19:56,763] Trial 24 finished with value: -11025.0 and parameters: {'a': 84, 'b': 49}. Best is trial 0 with value: -11025.0.\n",
      "[I 2024-04-18 14:19:58,209] Trial 25 finished with value: -11025.0 and parameters: {'a': 300, 'b': 59}. Best is trial 0 with value: -11025.0.\n",
      "[I 2024-04-18 14:19:59,494] Trial 26 finished with value: -13475.0 and parameters: {'a': 180, 'b': 28}. Best is trial 0 with value: -11025.0.\n",
      "[I 2024-04-18 14:20:00,851] Trial 27 finished with value: -11025.0 and parameters: {'a': 71, 'b': 76}. Best is trial 0 with value: -11025.0.\n",
      "[I 2024-04-18 14:20:02,255] Trial 28 finished with value: -11025.0 and parameters: {'a': 132, 'b': 92}. Best is trial 0 with value: -11025.0.\n",
      "[I 2024-04-18 14:20:03,532] Trial 29 finished with value: -11025.0 and parameters: {'a': 38, 'b': 66}. Best is trial 0 with value: -11025.0.\n",
      "[I 2024-04-18 14:20:04,916] Trial 30 finished with value: -11025.0 and parameters: {'a': 97, 'b': 73}. Best is trial 0 with value: -11025.0.\n",
      "[I 2024-04-18 14:20:06,183] Trial 31 finished with value: -11025.0 and parameters: {'a': 209, 'b': 64}. Best is trial 0 with value: -11025.0.\n",
      "[I 2024-04-18 14:20:07,662] Trial 32 finished with value: -11025.0 and parameters: {'a': 254, 'b': 56}. Best is trial 0 with value: -11025.0.\n",
      "[I 2024-04-18 14:20:08,908] Trial 33 finished with value: -11025.0 and parameters: {'a': 267, 'b': 44}. Best is trial 0 with value: -11025.0.\n",
      "[I 2024-04-18 14:20:10,390] Trial 34 finished with value: -12030.0 and parameters: {'a': 239, 'b': 32}. Best is trial 0 with value: -11025.0.\n",
      "[I 2024-04-18 14:20:11,649] Trial 35 finished with value: -11025.0 and parameters: {'a': 204, 'b': 83}. Best is trial 0 with value: -11025.0.\n",
      "[I 2024-04-18 14:20:13,010] Trial 36 finished with value: -11025.0 and parameters: {'a': 228, 'b': 71}. Best is trial 0 with value: -11025.0.\n",
      "[I 2024-04-18 14:20:14,409] Trial 37 finished with value: -11025.0 and parameters: {'a': 158, 'b': 52}. Best is trial 0 with value: -11025.0.\n",
      "[I 2024-04-18 14:20:15,675] Trial 38 finished with value: -11025.0 and parameters: {'a': 102, 'b': 63}. Best is trial 0 with value: -11025.0.\n",
      "[I 2024-04-18 14:20:17,053] Trial 39 finished with value: -11025.0 and parameters: {'a': 283, 'b': 78}. Best is trial 0 with value: -11025.0.\n",
      "[I 2024-04-18 14:20:18,375] Trial 40 finished with value: -11025.0 and parameters: {'a': 24, 'b': 47}. Best is trial 0 with value: -11025.0.\n",
      "[I 2024-04-18 14:20:19,847] Trial 41 finished with value: -11025.0 and parameters: {'a': 68, 'b': 39}. Best is trial 0 with value: -11025.0.\n",
      "[I 2024-04-18 14:20:21,186] Trial 42 finished with value: -11025.0 and parameters: {'a': 129, 'b': 34}. Best is trial 0 with value: -11025.0.\n",
      "[I 2024-04-18 14:20:22,560] Trial 43 finished with value: -11025.0 and parameters: {'a': 109, 'b': 54}. Best is trial 0 with value: -11025.0.\n",
      "[I 2024-04-18 14:20:23,835] Trial 44 finished with value: -11025.0 and parameters: {'a': 77, 'b': 44}. Best is trial 0 with value: -11025.0.\n",
      "[I 2024-04-18 14:20:25,197] Trial 45 finished with value: -11025.0 and parameters: {'a': 166, 'b': 71}. Best is trial 0 with value: -11025.0.\n",
      "[I 2024-04-18 14:20:26,579] Trial 46 finished with value: -11025.0 and parameters: {'a': 41, 'b': 84}. Best is trial 0 with value: -11025.0.\n",
      "[I 2024-04-18 14:20:28,772] Trial 47 finished with value: -13475.0 and parameters: {'a': 149, 'b': 11}. Best is trial 0 with value: -11025.0.\n",
      "[I 2024-04-18 14:20:30,184] Trial 48 finished with value: -11025.0 and parameters: {'a': 241, 'b': 57}. Best is trial 0 with value: -11025.0.\n",
      "[I 2024-04-18 14:20:31,897] Trial 49 finished with value: -11025.0 and parameters: {'a': 219, 'b': 94}. Best is trial 0 with value: -11025.0.\n",
      "[I 2024-04-18 14:20:33,212] Trial 50 finished with value: -11025.0 and parameters: {'a': 198, 'b': 52}. Best is trial 0 with value: -11025.0.\n",
      "[I 2024-04-18 14:20:34,612] Trial 51 finished with value: -11025.0 and parameters: {'a': 274, 'b': 37}. Best is trial 0 with value: -11025.0.\n",
      "[I 2024-04-18 14:20:35,921] Trial 52 finished with value: -13475.0 and parameters: {'a': 250, 'b': 27}. Best is trial 0 with value: -11025.0.\n",
      "[I 2024-04-18 14:20:37,344] Trial 53 finished with value: -11025.0 and parameters: {'a': 230, 'b': 43}. Best is trial 0 with value: -11025.0.\n",
      "[I 2024-04-18 14:20:38,623] Trial 54 finished with value: -11025.0 and parameters: {'a': 219, 'b': 48}. Best is trial 0 with value: -11025.0.\n",
      "[I 2024-04-18 14:20:40,160] Trial 55 finished with value: -11025.0 and parameters: {'a': 56, 'b': 33}. Best is trial 0 with value: -11025.0.\n",
      "[I 2024-04-18 14:20:41,560] Trial 56 finished with value: -11025.0 and parameters: {'a': 181, 'b': 61}. Best is trial 0 with value: -11025.0.\n",
      "[I 2024-04-18 14:20:43,189] Trial 57 finished with value: -13475.0 and parameters: {'a': 286, 'b': 23}. Best is trial 0 with value: -11025.0.\n",
      "[I 2024-04-18 14:20:44,677] Trial 58 finished with value: -11025.0 and parameters: {'a': 93, 'b': 67}. Best is trial 0 with value: -11025.0.\n",
      "[I 2024-04-18 14:20:46,024] Trial 59 finished with value: -11025.0 and parameters: {'a': 125, 'b': 74}. Best is trial 0 with value: -11025.0.\n",
      "[I 2024-04-18 14:20:47,488] Trial 60 finished with value: -11025.0 and parameters: {'a': 250, 'b': 39}. Best is trial 0 with value: -11025.0.\n",
      "[I 2024-04-18 14:20:48,807] Trial 61 finished with value: -11025.0 and parameters: {'a': 44, 'b': 69}. Best is trial 0 with value: -11025.0.\n",
      "[I 2024-04-18 14:20:50,231] Trial 62 finished with value: -11025.0 and parameters: {'a': 25, 'b': 80}. Best is trial 0 with value: -11025.0.\n",
      "[I 2024-04-18 14:20:51,638] Trial 63 finished with value: -11025.0 and parameters: {'a': 141, 'b': 64}. Best is trial 0 with value: -11025.0.\n",
      "[I 2024-04-18 14:20:53,083] Trial 64 finished with value: -11025.0 and parameters: {'a': 63, 'b': 46}. Best is trial 0 with value: -11025.0.\n",
      "[I 2024-04-18 14:20:54,544] Trial 65 finished with value: -11025.0 and parameters: {'a': 83, 'b': 50}. Best is trial 0 with value: -11025.0.\n",
      "[I 2024-04-18 14:20:55,894] Trial 66 finished with value: -11025.0 and parameters: {'a': 106, 'b': 86}. Best is trial 0 with value: -11025.0.\n",
      "[I 2024-04-18 14:20:57,445] Trial 67 finished with value: -11025.0 and parameters: {'a': 49, 'b': 60}. Best is trial 0 with value: -11025.0.\n",
      "[I 2024-04-18 14:20:58,801] Trial 68 finished with value: -11025.0 and parameters: {'a': 115, 'b': 78}. Best is trial 0 with value: -11025.0.\n",
      "[I 2024-04-18 14:21:00,242] Trial 69 finished with value: -12425.0 and parameters: {'a': 263, 'b': 31}. Best is trial 0 with value: -11025.0.\n",
      "[I 2024-04-18 14:21:01,710] Trial 70 finished with value: -11025.0 and parameters: {'a': 25, 'b': 41}. Best is trial 0 with value: -11025.0.\n",
      "[I 2024-04-18 14:21:03,077] Trial 71 finished with value: -11025.0 and parameters: {'a': 140, 'b': 91}. Best is trial 0 with value: -11025.0.\n",
      "[I 2024-04-18 14:21:04,551] Trial 72 finished with value: -11025.0 and parameters: {'a': 168, 'b': 87}. Best is trial 0 with value: -11025.0.\n",
      "[I 2024-04-18 14:21:06,039] Trial 73 finished with value: -11025.0 and parameters: {'a': 153, 'b': 74}. Best is trial 0 with value: -11025.0.\n",
      "[I 2024-04-18 14:21:07,381] Trial 74 finished with value: -11025.0 and parameters: {'a': 192, 'b': 97}. Best is trial 0 with value: -11025.0.\n",
      "[I 2024-04-18 14:21:08,960] Trial 75 finished with value: -11025.0 and parameters: {'a': 210, 'b': 70}. Best is trial 0 with value: -11025.0.\n",
      "[I 2024-04-18 14:21:10,467] Trial 76 finished with value: -11025.0 and parameters: {'a': 10, 'b': 82}. Best is trial 0 with value: -11025.0.\n",
      "[I 2024-04-18 14:21:11,813] Trial 77 finished with value: -11025.0 and parameters: {'a': 34, 'b': 66}. Best is trial 0 with value: -11025.0.\n",
      "[I 2024-04-18 14:21:13,287] Trial 78 finished with value: -11025.0 and parameters: {'a': 73, 'b': 57}. Best is trial 0 with value: -11025.0.\n",
      "[I 2024-04-18 14:21:14,885] Trial 79 finished with value: -11025.0 and parameters: {'a': 242, 'b': 36}. Best is trial 0 with value: -11025.0.\n",
      "[I 2024-04-18 14:21:16,236] Trial 80 finished with value: -11025.0 and parameters: {'a': 84, 'b': 76}. Best is trial 0 with value: -11025.0.\n",
      "[I 2024-04-18 14:21:17,681] Trial 81 finished with value: -11025.0 and parameters: {'a': 94, 'b': 100}. Best is trial 0 with value: -11025.0.\n",
      "[I 2024-04-18 14:21:19,005] Trial 82 finished with value: -11025.0 and parameters: {'a': 116, 'b': 89}. Best is trial 0 with value: -11025.0.\n",
      "[I 2024-04-18 14:21:20,916] Trial 83 finished with value: -11025.0 and parameters: {'a': 103, 'b': 92}. Best is trial 0 with value: -11025.0.\n",
      "[I 2024-04-18 14:21:22,412] Trial 84 finished with value: -11025.0 and parameters: {'a': 92, 'b': 97}. Best is trial 0 with value: -11025.0.\n",
      "[I 2024-04-18 14:21:23,894] Trial 85 finished with value: -11025.0 and parameters: {'a': 60, 'b': 54}. Best is trial 0 with value: -11025.0.\n",
      "[I 2024-04-18 14:21:25,212] Trial 86 finished with value: -11025.0 and parameters: {'a': 134, 'b': 80}. Best is trial 0 with value: -11025.0.\n",
      "[I 2024-04-18 14:21:26,612] Trial 87 finished with value: -11025.0 and parameters: {'a': 80, 'b': 97}. Best is trial 0 with value: -11025.0.\n",
      "[I 2024-04-18 14:21:28,263] Trial 88 finished with value: -11025.0 and parameters: {'a': 124, 'b': 72}. Best is trial 0 with value: -11025.0.\n",
      "[I 2024-04-18 14:21:29,630] Trial 89 finished with value: -11025.0 and parameters: {'a': 274, 'b': 62}. Best is trial 0 with value: -11025.0.\n",
      "[I 2024-04-18 14:21:31,073] Trial 90 finished with value: -11025.0 and parameters: {'a': 66, 'b': 41}. Best is trial 0 with value: -11025.0.\n",
      "[I 2024-04-18 14:21:32,402] Trial 91 finished with value: -11025.0 and parameters: {'a': 88, 'b': 49}. Best is trial 0 with value: -11025.0.\n",
      "[I 2024-04-18 14:21:33,881] Trial 92 finished with value: -11025.0 and parameters: {'a': 97, 'b': 45}. Best is trial 0 with value: -11025.0.\n",
      "[I 2024-04-18 14:21:35,328] Trial 93 finished with value: -11025.0 and parameters: {'a': 51, 'b': 65}. Best is trial 0 with value: -11025.0.\n",
      "[I 2024-04-18 14:21:36,875] Trial 94 finished with value: -11025.0 and parameters: {'a': 227, 'b': 52}. Best is trial 0 with value: -11025.0.\n",
      "[I 2024-04-18 14:21:38,196] Trial 95 finished with value: -11025.0 and parameters: {'a': 74, 'b': 59}. Best is trial 0 with value: -11025.0.\n",
      "[I 2024-04-18 14:21:39,627] Trial 96 finished with value: -11025.0 and parameters: {'a': 107, 'b': 68}. Best is trial 0 with value: -11025.0.\n",
      "[I 2024-04-18 14:21:40,929] Trial 97 finished with value: -11025.0 and parameters: {'a': 35, 'b': 42}. Best is trial 0 with value: -11025.0.\n",
      "[I 2024-04-18 14:21:42,661] Trial 98 finished with value: -12425.0 and parameters: {'a': 256, 'b': 30}. Best is trial 0 with value: -11025.0.\n",
      "[I 2024-04-18 14:21:44,084] Trial 99 finished with value: -11025.0 and parameters: {'a': 183, 'b': 38}. Best is trial 0 with value: -11025.0.\n"
     ]
    }
   ],
   "source": [
    "study = hyper_tune()"
   ]
  },
  {
   "cell_type": "code",
   "execution_count": null,
   "metadata": {},
   "outputs": [],
   "source": [
    "chocolate = {'a': 90, 'b': 25}  # {'a': 145, 'b': 29}\n",
    "roses = \n"
   ]
  },
  {
   "cell_type": "code",
   "execution_count": null,
   "metadata": {},
   "outputs": [],
   "source": []
  },
  {
   "cell_type": "code",
   "execution_count": 103,
   "metadata": {},
   "outputs": [
    {
     "data": {
      "text/plain": [
       "-13475.0"
      ]
     },
     "execution_count": 103,
     "metadata": {},
     "output_type": "execute_result"
    }
   ],
   "source": [
    "hypertune.get_profit(round_3_train.Trader(multiper = 0.4, der_res = 30, diff_thresh = 9),'../../../prosperity2bt/resources')"
   ]
  },
  {
   "cell_type": "code",
   "execution_count": 97,
   "metadata": {},
   "outputs": [
    {
     "data": {
      "text/plain": [
       "18025.0"
      ]
     },
     "execution_count": 97,
     "metadata": {},
     "output_type": "execute_result"
    }
   ],
   "source": [
    "hypertune.get_profit2(round_3_train.Trader(multiper = 0.4, der_res = 150, diff_thresh = 30),'../../../prosperity2bt/resources')"
   ]
  },
  {
   "cell_type": "code",
   "execution_count": null,
   "metadata": {},
   "outputs": [],
   "source": []
  }
 ],
 "metadata": {
  "kernelspec": {
   "display_name": "Python 3",
   "language": "python",
   "name": "python3"
  },
  "language_info": {
   "codemirror_mode": {
    "name": "ipython",
    "version": 3
   },
   "file_extension": ".py",
   "mimetype": "text/x-python",
   "name": "python",
   "nbconvert_exporter": "python",
   "pygments_lexer": "ipython3",
   "version": "3.11.4"
  }
 },
 "nbformat": 4,
 "nbformat_minor": 2
}
